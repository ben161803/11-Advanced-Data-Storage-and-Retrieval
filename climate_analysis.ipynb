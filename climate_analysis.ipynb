{
 "cells": [
  {
   "cell_type": "code",
   "execution_count": 31,
   "metadata": {},
   "outputs": [],
   "source": [
    "import datetime as dt\n",
    "import numpy as np\n",
    "import pandas as pd\n",
    "import sqlalchemy\n",
    "from sqlalchemy.ext.automap import automap_base\n",
    "from sqlalchemy.orm import Session\n",
    "from sqlalchemy import create_engine, func, inspect, desc\n",
    "from sqlalchemy.sql import label\n",
    "import matplotlib.pyplot as plt"
   ]
  },
  {
   "cell_type": "code",
   "execution_count": 32,
   "metadata": {},
   "outputs": [],
   "source": [
    "engine = create_engine(\"sqlite:///hawaii.sqlite\")"
   ]
  },
  {
   "cell_type": "code",
   "execution_count": 33,
   "metadata": {},
   "outputs": [],
   "source": [
    "Base = automap_base()\n",
    "Base.prepare(engine, reflect=True)"
   ]
  },
  {
   "cell_type": "code",
   "execution_count": 34,
   "metadata": {},
   "outputs": [],
   "source": [
    "Measurements = Base.classes.measurements\n",
    "Stations = Base.classes.stations"
   ]
  },
  {
   "cell_type": "code",
   "execution_count": 35,
   "metadata": {},
   "outputs": [],
   "source": [
    "session = Session(bind = engine)"
   ]
  },
  {
   "cell_type": "code",
   "execution_count": 36,
   "metadata": {},
   "outputs": [],
   "source": [
    "results = session.query(Measurements.date, Measurements.prcp).filter(Measurements.date >= '2016-08-23')"
   ]
  },
  {
   "cell_type": "code",
   "execution_count": 37,
   "metadata": {},
   "outputs": [],
   "source": [
    "data = {'date': [], 'precip': []}\n",
    "for row in results:\n",
    "    data['date'].append(row.date)\n",
    "    data['precip'].append(row.prcp)\n",
    "precip = pd.DataFrame(data['precip'], columns = ['prcp'], index = data['date'])"
   ]
  },
  {
   "cell_type": "code",
   "execution_count": 38,
   "metadata": {},
   "outputs": [
    {
     "data": {
      "text/html": [
       "<div>\n",
       "<style scoped>\n",
       "    .dataframe tbody tr th:only-of-type {\n",
       "        vertical-align: middle;\n",
       "    }\n",
       "\n",
       "    .dataframe tbody tr th {\n",
       "        vertical-align: top;\n",
       "    }\n",
       "\n",
       "    .dataframe thead th {\n",
       "        text-align: right;\n",
       "    }\n",
       "</style>\n",
       "<table border=\"1\" class=\"dataframe\">\n",
       "  <thead>\n",
       "    <tr style=\"text-align: right;\">\n",
       "      <th></th>\n",
       "      <th>prcp</th>\n",
       "    </tr>\n",
       "  </thead>\n",
       "  <tbody>\n",
       "    <tr>\n",
       "      <th>2016-08-23</th>\n",
       "      <td>0.00</td>\n",
       "    </tr>\n",
       "    <tr>\n",
       "      <th>2016-08-24</th>\n",
       "      <td>0.08</td>\n",
       "    </tr>\n",
       "    <tr>\n",
       "      <th>2016-08-25</th>\n",
       "      <td>0.08</td>\n",
       "    </tr>\n",
       "    <tr>\n",
       "      <th>2016-08-26</th>\n",
       "      <td>0.00</td>\n",
       "    </tr>\n",
       "    <tr>\n",
       "      <th>2016-08-27</th>\n",
       "      <td>0.00</td>\n",
       "    </tr>\n",
       "  </tbody>\n",
       "</table>\n",
       "</div>"
      ],
      "text/plain": [
       "            prcp\n",
       "2016-08-23  0.00\n",
       "2016-08-24  0.08\n",
       "2016-08-25  0.08\n",
       "2016-08-26  0.00\n",
       "2016-08-27  0.00"
      ]
     },
     "execution_count": 38,
     "metadata": {},
     "output_type": "execute_result"
    }
   ],
   "source": [
    "precip.head()"
   ]
  },
  {
   "cell_type": "code",
   "execution_count": 39,
   "metadata": {},
   "outputs": [
    {
     "data": {
      "text/plain": [
       "<function matplotlib.pyplot.show>"
      ]
     },
     "execution_count": 39,
     "metadata": {},
     "output_type": "execute_result"
    },
    {
     "data": {
      "image/png": "[encoded data removed]",
      "text/plain": [
       "<matplotlib.figure.Figure at 0x22f5f4eab70>"
      ]
     },
     "metadata": {},
     "output_type": "display_data"
    }
   ],
   "source": [
    "bar = precip.plot(x = precip.index, y = 'prcp')\n",
    "bar.set_title(f'Precipitation')\n",
    "bar.set_ylabel('Inches')\n",
    "bar.set_xlabel('Date')\n",
    "plt.show"
   ]
  },
  {
   "cell_type": "code",
   "execution_count": 40,
   "metadata": {},
   "outputs": [
    {
     "name": "stdout",
     "output_type": "stream",
     "text": [
      "Total Stations: 9\n"
     ]
    }
   ],
   "source": [
    "stations_results = session.query(func.count(Stations.station)).all()\n",
    "print(f'Total Stations: {str(stations_results[0][0])}')"
   ]
  },
  {
   "cell_type": "code",
   "execution_count": 41,
   "metadata": {},
   "outputs": [
    {
     "name": "stdout",
     "output_type": "stream",
     "text": [
      "('USC00519281', 2772)\n",
      "('USC00513117', 2696)\n",
      "('USC00519397', 2685)\n",
      "('USC00519523', 2572)\n",
      "('USC00516128', 2484)\n",
      "('USC00514830', 1937)\n",
      "('USC00511918', 1932)\n",
      "('USC00517948', 683)\n",
      "('USC00518838', 342)\n"
     ]
    }
   ],
   "source": [
    "active_results = session.query(Measurements.station,\n",
    "    label('date', func.count(Measurements.date))).group_by(Measurements.station).all()\n",
    "\n",
    "station_count = session.query(Measurements.station, func.count(Measurements.tobs)).group_by(Measurements.station).order_by(func.count(Measurements.tobs).desc())\n",
    "for station in station_count:\n",
    "    print(station)"
   ]
  },
  {
   "cell_type": "code",
   "execution_count": 42,
   "metadata": {},
   "outputs": [
    {
     "name": "stdout",
     "output_type": "stream",
     "text": [
      "USC00519281 has the most observations\n"
     ]
    }
   ],
   "source": [
    "top_station = station_count[0][0]\n",
    "print(f'{top_station} has the most observations')"
   ]
  },
  {
   "cell_type": "code",
   "execution_count": 43,
   "metadata": {},
   "outputs": [
    {
     "data": {
      "text/plain": [
       "[('USC00519281', '2016-08-23', 77),\n",
       " ('USC00519281', '2016-08-24', 77),\n",
       " ('USC00519281', '2016-08-25', 80),\n",
       " ('USC00519281', '2016-08-26', 80),\n",
       " ('USC00519281', '2016-08-27', 75),\n",
       " ('USC00519281', '2016-08-28', 73),\n",
       " ('USC00519281', '2016-08-29', 78),\n",
       " ('USC00519281', '2016-08-30', 77),\n",
       " ('USC00519281', '2016-08-31', 78),\n",
       " ('USC00519281', '2016-09-01', 80),\n",
       " ('USC00519281', '2016-09-02', 80),\n",
       " ('USC00519281', '2016-09-03', 78),\n",
       " ('USC00519281', '2016-09-04', 78),\n",
       " ('USC00519281', '2016-09-05', 78),\n",
       " ('USC00519281', '2016-09-06', 73),\n",
       " ('USC00519281', '2016-09-07', 74),\n",
       " ('USC00519281', '2016-09-08', 80),\n",
       " ('USC00519281', '2016-09-09', 79),\n",
       " ('USC00519281', '2016-09-10', 77),\n",
       " ('USC00519281', '2016-09-11', 80),\n",
       " ('USC00519281', '2016-09-12', 76),\n",
       " ('USC00519281', '2016-09-13', 79),\n",
       " ('USC00519281', '2016-09-14', 75),\n",
       " ('USC00519281', '2016-09-15', 79),\n",
       " ('USC00519281', '2016-09-16', 78),\n",
       " ('USC00519281', '2016-09-17', 79),\n",
       " ('USC00519281', '2016-09-18', 78),\n",
       " ('USC00519281', '2016-09-19', 78),\n",
       " ('USC00519281', '2016-09-20', 76),\n",
       " ('USC00519281', '2016-09-21', 74),\n",
       " ('USC00519281', '2016-09-22', 77),\n",
       " ('USC00519281', '2016-09-23', 78),\n",
       " ('USC00519281', '2016-09-24', 79),\n",
       " ('USC00519281', '2016-09-25', 79),\n",
       " ('USC00519281', '2016-09-26', 77),\n",
       " ('USC00519281', '2016-09-27', 80),\n",
       " ('USC00519281', '2016-09-28', 78),\n",
       " ('USC00519281', '2016-09-29', 78),\n",
       " ('USC00519281', '2016-09-30', 78),\n",
       " ('USC00519281', '2016-10-01', 77),\n",
       " ('USC00519281', '2016-10-02', 79),\n",
       " ('USC00519281', '2016-10-03', 79),\n",
       " ('USC00519281', '2016-10-04', 79),\n",
       " ('USC00519281', '2016-10-05', 79),\n",
       " ('USC00519281', '2016-10-06', 75),\n",
       " ('USC00519281', '2016-10-07', 76),\n",
       " ('USC00519281', '2016-10-08', 73),\n",
       " ('USC00519281', '2016-10-09', 72),\n",
       " ('USC00519281', '2016-10-10', 71),\n",
       " ('USC00519281', '2016-10-11', 77),\n",
       " ('USC00519281', '2016-10-12', 79),\n",
       " ('USC00519281', '2016-10-13', 78),\n",
       " ('USC00519281', '2016-10-14', 79),\n",
       " ('USC00519281', '2016-10-15', 77),\n",
       " ('USC00519281', '2016-10-16', 79),\n",
       " ('USC00519281', '2016-10-17', 77),\n",
       " ('USC00519281', '2016-10-18', 78),\n",
       " ('USC00519281', '2016-10-19', 78),\n",
       " ('USC00519281', '2016-10-20', 78),\n",
       " ('USC00519281', '2016-10-21', 78),\n",
       " ('USC00519281', '2016-10-22', 77),\n",
       " ('USC00519281', '2016-10-23', 74),\n",
       " ('USC00519281', '2016-10-24', 75),\n",
       " ('USC00519281', '2016-10-25', 76),\n",
       " ('USC00519281', '2016-10-26', 73),\n",
       " ('USC00519281', '2016-10-27', 76),\n",
       " ('USC00519281', '2016-10-28', 74),\n",
       " ('USC00519281', '2016-10-29', 77),\n",
       " ('USC00519281', '2016-10-30', 76),\n",
       " ('USC00519281', '2016-10-31', 76),\n",
       " ('USC00519281', '2016-11-01', 74),\n",
       " ('USC00519281', '2016-11-02', 75),\n",
       " ('USC00519281', '2016-11-03', 75),\n",
       " ('USC00519281', '2016-11-04', 75),\n",
       " ('USC00519281', '2016-11-05', 75),\n",
       " ('USC00519281', '2016-11-06', 71),\n",
       " ('USC00519281', '2016-11-07', 63),\n",
       " ('USC00519281', '2016-11-08', 70),\n",
       " ('USC00519281', '2016-11-09', 68),\n",
       " ('USC00519281', '2016-11-10', 67),\n",
       " ('USC00519281', '2016-11-11', 77),\n",
       " ('USC00519281', '2016-11-12', 74),\n",
       " ('USC00519281', '2016-11-13', 77),\n",
       " ('USC00519281', '2016-11-14', 76),\n",
       " ('USC00519281', '2016-11-15', 76),\n",
       " ('USC00519281', '2016-11-16', 75),\n",
       " ('USC00519281', '2016-11-17', 76),\n",
       " ('USC00519281', '2016-11-18', 75),\n",
       " ('USC00519281', '2016-11-19', 73),\n",
       " ('USC00519281', '2016-11-20', 75),\n",
       " ('USC00519281', '2016-11-21', 73),\n",
       " ('USC00519281', '2016-11-22', 75),\n",
       " ('USC00519281', '2016-11-23', 74),\n",
       " ('USC00519281', '2016-11-24', 75),\n",
       " ('USC00519281', '2016-11-25', 74),\n",
       " ('USC00519281', '2016-11-26', 75),\n",
       " ('USC00519281', '2016-11-27', 73),\n",
       " ('USC00519281', '2016-11-28', 75),\n",
       " ('USC00519281', '2016-11-29', 73),\n",
       " ('USC00519281', '2016-11-30', 73),\n",
       " ('USC00519281', '2016-12-01', 74),\n",
       " ('USC00519281', '2016-12-02', 70),\n",
       " ('USC00519281', '2016-12-03', 72),\n",
       " ('USC00519281', '2016-12-04', 70),\n",
       " ('USC00519281', '2016-12-05', 67),\n",
       " ('USC00519281', '2016-12-06', 67),\n",
       " ('USC00519281', '2016-12-07', 69),\n",
       " ('USC00519281', '2016-12-08', 70),\n",
       " ('USC00519281', '2016-12-09', 68),\n",
       " ('USC00519281', '2016-12-10', 69),\n",
       " ('USC00519281', '2016-12-11', 69),\n",
       " ('USC00519281', '2016-12-12', 66),\n",
       " ('USC00519281', '2016-12-13', 65),\n",
       " ('USC00519281', '2016-12-14', 68),\n",
       " ('USC00519281', '2016-12-15', 62),\n",
       " ('USC00519281', '2016-12-16', 75),\n",
       " ('USC00519281', '2016-12-17', 70),\n",
       " ('USC00519281', '2016-12-18', 69),\n",
       " ('USC00519281', '2016-12-19', 76),\n",
       " ('USC00519281', '2016-12-20', 76),\n",
       " ('USC00519281', '2016-12-21', 74),\n",
       " ('USC00519281', '2016-12-22', 73),\n",
       " ('USC00519281', '2016-12-23', 71),\n",
       " ('USC00519281', '2016-12-24', 74),\n",
       " ('USC00519281', '2016-12-25', 74),\n",
       " ('USC00519281', '2016-12-26', 72),\n",
       " ('USC00519281', '2016-12-27', 71),\n",
       " ('USC00519281', '2016-12-28', 72),\n",
       " ('USC00519281', '2016-12-29', 74),\n",
       " ('USC00519281', '2016-12-30', 69),\n",
       " ('USC00519281', '2016-12-31', 67),\n",
       " ('USC00519281', '2017-01-01', 72),\n",
       " ('USC00519281', '2017-01-02', 70),\n",
       " ('USC00519281', '2017-01-03', 64),\n",
       " ('USC00519281', '2017-01-04', 63),\n",
       " ('USC00519281', '2017-01-05', 63),\n",
       " ('USC00519281', '2017-01-06', 62),\n",
       " ('USC00519281', '2017-01-07', 70),\n",
       " ('USC00519281', '2017-01-08', 70),\n",
       " ('USC00519281', '2017-01-09', 62),\n",
       " ('USC00519281', '2017-01-10', 62),\n",
       " ('USC00519281', '2017-01-11', 63),\n",
       " ('USC00519281', '2017-01-12', 65),\n",
       " ('USC00519281', '2017-01-13', 69),\n",
       " ('USC00519281', '2017-01-14', 77),\n",
       " ('USC00519281', '2017-01-15', 70),\n",
       " ('USC00519281', '2017-01-16', 74),\n",
       " ('USC00519281', '2017-01-17', 69),\n",
       " ('USC00519281', '2017-01-18', 72),\n",
       " ('USC00519281', '2017-01-19', 71),\n",
       " ('USC00519281', '2017-01-20', 69),\n",
       " ('USC00519281', '2017-01-21', 71),\n",
       " ('USC00519281', '2017-01-22', 71),\n",
       " ('USC00519281', '2017-01-23', 72),\n",
       " ('USC00519281', '2017-01-24', 72),\n",
       " ('USC00519281', '2017-01-25', 69),\n",
       " ('USC00519281', '2017-01-26', 70),\n",
       " ('USC00519281', '2017-01-27', 66),\n",
       " ('USC00519281', '2017-01-28', 65),\n",
       " ('USC00519281', '2017-01-29', 69),\n",
       " ('USC00519281', '2017-01-30', 68),\n",
       " ('USC00519281', '2017-01-31', 68),\n",
       " ('USC00519281', '2017-02-01', 68),\n",
       " ('USC00519281', '2017-02-02', 59),\n",
       " ('USC00519281', '2017-02-03', 60),\n",
       " ('USC00519281', '2017-02-04', 70),\n",
       " ('USC00519281', '2017-02-05', 73),\n",
       " ('USC00519281', '2017-02-06', 75),\n",
       " ('USC00519281', '2017-02-07', 64),\n",
       " ('USC00519281', '2017-02-08', 59),\n",
       " ('USC00519281', '2017-02-09', 59),\n",
       " ('USC00519281', '2017-02-10', 62),\n",
       " ('USC00519281', '2017-02-11', 68),\n",
       " ('USC00519281', '2017-02-12', 70),\n",
       " ('USC00519281', '2017-02-13', 73),\n",
       " ('USC00519281', '2017-02-14', 79),\n",
       " ('USC00519281', '2017-02-15', 75),\n",
       " ('USC00519281', '2017-02-16', 65),\n",
       " ('USC00519281', '2017-02-17', 70),\n",
       " ('USC00519281', '2017-02-18', 74),\n",
       " ('USC00519281', '2017-02-19', 70),\n",
       " ('USC00519281', '2017-02-20', 70),\n",
       " ('USC00519281', '2017-02-21', 71),\n",
       " ('USC00519281', '2017-02-22', 71),\n",
       " ('USC00519281', '2017-02-23', 71),\n",
       " ('USC00519281', '2017-02-24', 69),\n",
       " ('USC00519281', '2017-02-25', 61),\n",
       " ('USC00519281', '2017-02-26', 67),\n",
       " ('USC00519281', '2017-02-27', 65),\n",
       " ('USC00519281', '2017-02-28', 72),\n",
       " ('USC00519281', '2017-03-01', 71),\n",
       " ('USC00519281', '2017-03-02', 73),\n",
       " ('USC00519281', '2017-03-03', 72),\n",
       " ('USC00519281', '2017-03-04', 77),\n",
       " ('USC00519281', '2017-03-05', 73),\n",
       " ('USC00519281', '2017-03-06', 67),\n",
       " ('USC00519281', '2017-03-07', 62),\n",
       " ('USC00519281', '2017-03-08', 64),\n",
       " ('USC00519281', '2017-03-09', 67),\n",
       " ('USC00519281', '2017-03-10', 66),\n",
       " ('USC00519281', '2017-03-11', 81),\n",
       " ('USC00519281', '2017-03-12', 69),\n",
       " ('USC00519281', '2017-03-13', 66),\n",
       " ('USC00519281', '2017-03-14', 67),\n",
       " ('USC00519281', '2017-03-15', 69),\n",
       " ('USC00519281', '2017-03-16', 66),\n",
       " ('USC00519281', '2017-03-17', 68),\n",
       " ('USC00519281', '2017-03-18', 65),\n",
       " ('USC00519281', '2017-03-19', 74),\n",
       " ('USC00519281', '2017-03-20', 69),\n",
       " ('USC00519281', '2017-03-21', 72),\n",
       " ('USC00519281', '2017-03-22', 73),\n",
       " ('USC00519281', '2017-03-23', 72),\n",
       " ('USC00519281', '2017-03-24', 71),\n",
       " ('USC00519281', '2017-03-25', 76),\n",
       " ('USC00519281', '2017-03-26', 77),\n",
       " ('USC00519281', '2017-03-27', 76),\n",
       " ('USC00519281', '2017-03-28', 74),\n",
       " ('USC00519281', '2017-03-29', 68),\n",
       " ('USC00519281', '2017-03-30', 73),\n",
       " ('USC00519281', '2017-03-31', 71),\n",
       " ('USC00519281', '2017-04-01', 74),\n",
       " ('USC00519281', '2017-04-02', 75),\n",
       " ('USC00519281', '2017-04-03', 70),\n",
       " ('USC00519281', '2017-04-04', 67),\n",
       " ('USC00519281', '2017-04-05', 71),\n",
       " ('USC00519281', '2017-04-06', 67),\n",
       " ('USC00519281', '2017-04-07', 74),\n",
       " ('USC00519281', '2017-04-08', 77),\n",
       " ('USC00519281', '2017-04-09', 78),\n",
       " ('USC00519281', '2017-04-10', 67),\n",
       " ('USC00519281', '2017-04-11', 70),\n",
       " ('USC00519281', '2017-04-12', 69),\n",
       " ('USC00519281', '2017-04-13', 69),\n",
       " ('USC00519281', '2017-04-14', 74),\n",
       " ('USC00519281', '2017-04-15', 78),\n",
       " ('USC00519281', '2017-04-16', 71),\n",
       " ('USC00519281', '2017-04-17', 67),\n",
       " ('USC00519281', '2017-04-18', 68),\n",
       " ('USC00519281', '2017-04-19', 67),\n",
       " ('USC00519281', '2017-04-20', 76),\n",
       " ('USC00519281', '2017-04-21', 69),\n",
       " ('USC00519281', '2017-04-22', 72),\n",
       " ('USC00519281', '2017-04-23', 76),\n",
       " ('USC00519281', '2017-04-24', 68),\n",
       " ('USC00519281', '2017-04-25', 72),\n",
       " ('USC00519281', '2017-04-26', 74),\n",
       " ('USC00519281', '2017-04-27', 70),\n",
       " ('USC00519281', '2017-04-28', 67),\n",
       " ('USC00519281', '2017-04-29', 72),\n",
       " ('USC00519281', '2017-04-30', 60),\n",
       " ('USC00519281', '2017-05-01', 65),\n",
       " ('USC00519281', '2017-05-02', 75),\n",
       " ('USC00519281', '2017-05-03', 70),\n",
       " ('USC00519281', '2017-05-04', 75),\n",
       " ('USC00519281', '2017-05-05', 70),\n",
       " ('USC00519281', '2017-05-06', 79),\n",
       " ('USC00519281', '2017-05-07', 75),\n",
       " ('USC00519281', '2017-05-08', 70),\n",
       " ('USC00519281', '2017-05-09', 67),\n",
       " ('USC00519281', '2017-05-10', 74),\n",
       " ('USC00519281', '2017-05-11', 70),\n",
       " ('USC00519281', '2017-05-12', 75),\n",
       " ('USC00519281', '2017-05-13', 76),\n",
       " ('USC00519281', '2017-05-14', 77),\n",
       " ('USC00519281', '2017-05-15', 74),\n",
       " ('USC00519281', '2017-05-16', 74),\n",
       " ('USC00519281', '2017-05-17', 74),\n",
       " ('USC00519281', '2017-05-18', 69),\n",
       " ('USC00519281', '2017-05-19', 68),\n",
       " ('USC00519281', '2017-05-20', 76),\n",
       " ('USC00519281', '2017-05-21', 74),\n",
       " ('USC00519281', '2017-05-22', 71),\n",
       " ('USC00519281', '2017-05-23', 71),\n",
       " ('USC00519281', '2017-05-24', 74),\n",
       " ('USC00519281', '2017-05-25', 74),\n",
       " ('USC00519281', '2017-05-26', 74),\n",
       " ('USC00519281', '2017-05-27', 74),\n",
       " ('USC00519281', '2017-05-28', 80),\n",
       " ('USC00519281', '2017-05-29', 74),\n",
       " ('USC00519281', '2017-05-30', 72),\n",
       " ('USC00519281', '2017-05-31', 75),\n",
       " ('USC00519281', '2017-06-01', 80),\n",
       " ('USC00519281', '2017-06-02', 76),\n",
       " ('USC00519281', '2017-06-03', 76),\n",
       " ('USC00519281', '2017-06-04', 77),\n",
       " ('USC00519281', '2017-06-05', 75),\n",
       " ('USC00519281', '2017-06-06', 75),\n",
       " ('USC00519281', '2017-06-07', 75),\n",
       " ('USC00519281', '2017-06-08', 75),\n",
       " ('USC00519281', '2017-06-09', 72),\n",
       " ('USC00519281', '2017-06-10', 74),\n",
       " ('USC00519281', '2017-06-11', 74),\n",
       " ('USC00519281', '2017-06-12', 74),\n",
       " ('USC00519281', '2017-06-13', 76),\n",
       " ('USC00519281', '2017-06-14', 74),\n",
       " ('USC00519281', '2017-06-15', 75),\n",
       " ('USC00519281', '2017-06-16', 73),\n",
       " ('USC00519281', '2017-06-17', 79),\n",
       " ('USC00519281', '2017-06-18', 75),\n",
       " ('USC00519281', '2017-06-19', 72),\n",
       " ('USC00519281', '2017-06-20', 72),\n",
       " ('USC00519281', '2017-06-21', 74),\n",
       " ('USC00519281', '2017-06-22', 72),\n",
       " ('USC00519281', '2017-06-23', 72),\n",
       " ('USC00519281', '2017-06-24', 77),\n",
       " ('USC00519281', '2017-06-25', 71),\n",
       " ('USC00519281', '2017-06-26', 73),\n",
       " ('USC00519281', '2017-06-27', 76),\n",
       " ('USC00519281', '2017-06-28', 77),\n",
       " ('USC00519281', '2017-06-29', 76),\n",
       " ('USC00519281', '2017-06-30', 76),\n",
       " ('USC00519281', '2017-07-01', 79),\n",
       " ('USC00519281', '2017-07-02', 81),\n",
       " ('USC00519281', '2017-07-03', 76),\n",
       " ('USC00519281', '2017-07-04', 78),\n",
       " ('USC00519281', '2017-07-05', 77),\n",
       " ('USC00519281', '2017-07-06', 74),\n",
       " ('USC00519281', '2017-07-07', 75),\n",
       " ('USC00519281', '2017-07-08', 78),\n",
       " ('USC00519281', '2017-07-09', 78),\n",
       " ('USC00519281', '2017-07-10', 69),\n",
       " ('USC00519281', '2017-07-11', 72),\n",
       " ('USC00519281', '2017-07-12', 74),\n",
       " ('USC00519281', '2017-07-13', 74),\n",
       " ('USC00519281', '2017-07-14', 76),\n",
       " ('USC00519281', '2017-07-15', 80),\n",
       " ('USC00519281', '2017-07-16', 80),\n",
       " ('USC00519281', '2017-07-17', 76),\n",
       " ('USC00519281', '2017-07-18', 76),\n",
       " ('USC00519281', '2017-07-19', 76),\n",
       " ('USC00519281', '2017-07-20', 77),\n",
       " ('USC00519281', '2017-07-21', 77),\n",
       " ('USC00519281', '2017-07-22', 77),\n",
       " ('USC00519281', '2017-07-23', 82),\n",
       " ('USC00519281', '2017-07-24', 75),\n",
       " ('USC00519281', '2017-07-25', 77),\n",
       " ('USC00519281', '2017-07-26', 75),\n",
       " ('USC00519281', '2017-07-27', 76),\n",
       " ('USC00519281', '2017-07-28', 81),\n",
       " ('USC00519281', '2017-07-29', 82),\n",
       " ('USC00519281', '2017-07-30', 81),\n",
       " ('USC00519281', '2017-07-31', 76),\n",
       " ('USC00519281', '2017-08-04', 77),\n",
       " ('USC00519281', '2017-08-05', 82),\n",
       " ('USC00519281', '2017-08-06', 83),\n",
       " ('USC00519281', '2017-08-13', 77),\n",
       " ('USC00519281', '2017-08-14', 77),\n",
       " ('USC00519281', '2017-08-15', 77),\n",
       " ('USC00519281', '2017-08-16', 76),\n",
       " ('USC00519281', '2017-08-17', 76),\n",
       " ('USC00519281', '2017-08-18', 79)]"
      ]
     },
     "execution_count": 43,
     "metadata": {},
     "output_type": "execute_result"
    }
   ],
   "source": [
    "temp_data = session.query(Measurements.station, Measurements.date, Measurements.tobs).filter(Measurements.date >= '2016-08-23').filter(Measurements.station == top_station).order_by(Measurements.date).all()\n",
    "temp_data"
   ]
  },
  {
   "cell_type": "code",
   "execution_count": 44,
   "metadata": {},
   "outputs": [
    {
     "data": {
      "text/html": [
       "<div>\n",
       "<style scoped>\n",
       "    .dataframe tbody tr th:only-of-type {\n",
       "        vertical-align: middle;\n",
       "    }\n",
       "\n",
       "    .dataframe tbody tr th {\n",
       "        vertical-align: top;\n",
       "    }\n",
       "\n",
       "    .dataframe thead th {\n",
       "        text-align: right;\n",
       "    }\n",
       "</style>\n",
       "<table border=\"1\" class=\"dataframe\">\n",
       "  <thead>\n",
       "    <tr style=\"text-align: right;\">\n",
       "      <th></th>\n",
       "      <th>temp</th>\n",
       "    </tr>\n",
       "  </thead>\n",
       "  <tbody>\n",
       "    <tr>\n",
       "      <th>2016-08-23</th>\n",
       "      <td>77</td>\n",
       "    </tr>\n",
       "    <tr>\n",
       "      <th>2016-08-24</th>\n",
       "      <td>77</td>\n",
       "    </tr>\n",
       "    <tr>\n",
       "      <th>2016-08-25</th>\n",
       "      <td>80</td>\n",
       "    </tr>\n",
       "    <tr>\n",
       "      <th>2016-08-26</th>\n",
       "      <td>80</td>\n",
       "    </tr>\n",
       "    <tr>\n",
       "      <th>2016-08-27</th>\n",
       "      <td>75</td>\n",
       "    </tr>\n",
       "  </tbody>\n",
       "</table>\n",
       "</div>"
      ],
      "text/plain": [
       "            temp\n",
       "2016-08-23    77\n",
       "2016-08-24    77\n",
       "2016-08-25    80\n",
       "2016-08-26    80\n",
       "2016-08-27    75"
      ]
     },
     "execution_count": 44,
     "metadata": {},
     "output_type": "execute_result"
    }
   ],
   "source": [
    "t_data = {'date': [], 'temp': []}\n",
    "for row in temp_data:\n",
    "    t_data['date'].append(row[1])\n",
    "    t_data['temp'].append(row[2])\n",
    "temp_df = pd.DataFrame(t_data['temp'], columns = ['temp'], index = t_data['date'])\n",
    "temp_df.head()"
   ]
  },
  {
   "cell_type": "code",
   "execution_count": 45,
   "metadata": {},
   "outputs": [
    {
     "data": {
      "text/plain": [
       "<function matplotlib.pyplot.show>"
      ]
     },
     "execution_count": 45,
     "metadata": {},
     "output_type": "execute_result"
    },
    {
     "data": {
      "image/png": "[encoded data removed]",
      "text/plain": [
       "<matplotlib.figure.Figure at 0x22f63030ba8>"
      ]
     },
     "metadata": {},
     "output_type": "display_data"
    }
   ],
   "source": [
    "hist = temp_df['temp'].hist(bins = 12)\n",
    "hist.set_title(f'Temperature Observations from {top_station}')\n",
    "hist.set_ylabel('Observations')\n",
    "plt.show"
   ]
  },
  {
   "cell_type": "code",
   "execution_count": 50,
   "metadata": {},
   "outputs": [],
   "source": [
    "def calc_temps(start_date, end_date):\n",
    "    return session.query(func.min(Measurements.tobs), func.avg(Measurements.tobs), func.max(Measurements.tobs)).filter(Measurements.date >= start_date).filter(Measurements.date <= end_date).all()"
   ]
  },
  {
   "cell_type": "code",
   "execution_count": 59,
   "metadata": {},
   "outputs": [
    {
     "data": {
      "text/html": [
       "<div>\n",
       "<style scoped>\n",
       "    .dataframe tbody tr th:only-of-type {\n",
       "        vertical-align: middle;\n",
       "    }\n",
       "\n",
       "    .dataframe tbody tr th {\n",
       "        vertical-align: top;\n",
       "    }\n",
       "\n",
       "    .dataframe thead th {\n",
       "        text-align: right;\n",
       "    }\n",
       "</style>\n",
       "<table border=\"1\" class=\"dataframe\">\n",
       "  <thead>\n",
       "    <tr style=\"text-align: right;\">\n",
       "      <th></th>\n",
       "      <th>tmin</th>\n",
       "      <th>tavg</th>\n",
       "      <th>tmax</th>\n",
       "    </tr>\n",
       "  </thead>\n",
       "  <tbody>\n",
       "    <tr>\n",
       "      <th>0</th>\n",
       "      <td>71</td>\n",
       "      <td>78.5</td>\n",
       "      <td>83</td>\n",
       "    </tr>\n",
       "  </tbody>\n",
       "</table>\n",
       "</div>"
      ],
      "text/plain": [
       "   tmin  tavg  tmax\n",
       "0    71  78.5    83"
      ]
     },
     "execution_count": 59,
     "metadata": {},
     "output_type": "execute_result"
    }
   ],
   "source": [
    "temperatures = (calc_temps('2017-08-16','2017-08-23'))\n",
    "temperatures_df = pd.DataFrame.from_records(temperatures, columns = ['tmin', 'tavg', 'tmax'])\n",
    "temperatures_df.head()"
   ]
  },
  {
   "cell_type": "code",
   "execution_count": 65,
   "metadata": {},
   "outputs": [
    {
     "data": {
      "text/plain": [
       "0    71\n",
       "Name: tmin, dtype: int64"
      ]
     },
     "execution_count": 65,
     "metadata": {},
     "output_type": "execute_result"
    }
   ],
   "source": [
    "temperatures_df.tmin"
   ]
  },
  {
   "cell_type": "code",
   "execution_count": 68,
   "metadata": {},
   "outputs": [
    {
     "data": {
      "text/plain": [
       "<function matplotlib.pyplot.show>"
      ]
     },
     "execution_count": 68,
     "metadata": {},
     "output_type": "execute_result"
    },
    {
     "data": {
      "image/png": "[encoded data removed]",
      "text/plain": [
       "<matplotlib.figure.Figure at 0x22f630dc7f0>"
      ]
     },
     "metadata": {},
     "output_type": "display_data"
    }
   ],
   "source": [
    "temp_chart = temperatures_df[['tavg']].plot(kind = 'bar', title = 'Trip AVG Temp', legend = True, yerr = [temperatures_df.tmax-temperatures_df.tmin])\n",
    "temp_chart.set_ylabel('Temp(F)')\n",
    "plt.show"
   ]
  }
 ],
 "metadata": {
  "kernelspec": {
   "display_name": "Python 3",
   "language": "python",
   "name": "python3"
  },
  "language_info": {
   "codemirror_mode": {
    "name": "ipython",
    "version": 3
   },
   "file_extension": ".py",
   "mimetype": "text/x-python",
   "name": "python",
   "nbconvert_exporter": "python",
   "pygments_lexer": "ipython3",
   "version": "3.6.4"
  }
 },
 "nbformat": 4,
 "nbformat_minor": 2
}
